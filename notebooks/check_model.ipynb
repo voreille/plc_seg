{
 "cells": [
  {
   "cell_type": "code",
   "execution_count": null,
   "metadata": {},
   "outputs": [],
   "source": [
    "from pathlib import Path\n",
    "\n",
    "import tensorflow as tf\n",
    "import numpy as np\n",
    "import pandas as pd\n",
    "import h5py\n",
    "import matplotlib.pyplot as plt\n",
    "\n",
    "from src.models.fetch_data_from_hdf5 import get_tf_data\n",
    "from src.models.models_2d import CustomModel, unet_model"
   ]
  },
  {
   "cell_type": "code",
   "execution_count": null,
   "metadata": {},
   "outputs": [],
   "source": [
    "\n",
    "project_dir = Path(\"../\").resolve()\n",
    "#model_path = \"/home/val/python_wkspce/plc_seg/models/model_1-00_alpha_1-00_wplc_1-00_wt_1-00_wl_10-00_splc_early_stop/checkpoint/checkpoint\"\n",
    "#model_path = \"/home/val/python_wkspce/plc_seg/models/model_0-75_alpha_1-00_wplc_1-00_wt_1-00_wl_40-00_splc_early_stop/epochs_50\"\n",
    "model_path = \"/home/val/python_wkspce/plc_seg/models/early_stop/model_0-75_alpha_1-00_wplc_0-00_wt_0-00_wl_40-00_splc_early_stop/final\"\n",
    "image_size = (256, 256)\n"
   ]
  },
  {
   "cell_type": "code",
   "execution_count": null,
   "metadata": {},
   "outputs": [],
   "source": [
    "model_path"
   ]
  },
  {
   "cell_type": "code",
   "execution_count": null,
   "metadata": {},
   "outputs": [],
   "source": [
    "file_test = h5py.File(\"/home/val/python_wkspce/plc_seg/data/processed/2d_pet_normalized/test.hdf5\", \"r\")\n",
    "file_train = h5py.File(\"/home/val/python_wkspce/plc_seg/data/processed/2d_pet_normalized/train.hdf5\", \"r\")"
   ]
  },
  {
   "cell_type": "code",
   "execution_count": null,
   "metadata": {},
   "outputs": [],
   "source": [
    "clinical_df = pd.read_csv(\"../data/clinical_info.csv\").set_index(\"patient_id\")"
   ]
  },
  {
   "cell_type": "code",
   "execution_count": null,
   "metadata": {},
   "outputs": [],
   "source": [
    "bs = 4\n",
    "data_test = get_tf_data(\n",
    "        file_test,\n",
    "        clinical_df,\n",
    "        output_shape=(256, 256),\n",
    "        random_slice=False,\n",
    "    ).batch(bs).as_numpy_iterator()"
   ]
  },
  {
   "cell_type": "code",
   "execution_count": null,
   "metadata": {},
   "outputs": [],
   "source": [
    "#model_ = unet_model(3, input_shape=image_size + (3, ))\n",
    "optimizer = tf.keras.optimizers.Adam(learning_rate=1e-3)\n",
    "\n",
    "#model = CustomModel(model_.inputs, model_.outputs)\n",
    "# We don't passs a loss or metrics here.\n",
    "\n"
   ]
  },
  {
   "cell_type": "code",
   "execution_count": null,
   "metadata": {},
   "outputs": [],
   "source": [
    "model = tf.keras.models.load_model(model_path, compile=False)"
   ]
  },
  {
   "cell_type": "code",
   "execution_count": null,
   "metadata": {},
   "outputs": [],
   "source": [
    "model.compile(\n",
    "    optimizer=optimizer,\n",
    "    run_eagerly=False,\n",
    ")"
   ]
  },
  {
   "cell_type": "code",
   "execution_count": null,
   "metadata": {},
   "outputs": [],
   "source": [
    "#model.load_weights(model_path)\n"
   ]
  },
  {
   "cell_type": "code",
   "execution_count": null,
   "metadata": {},
   "outputs": [],
   "source": [
    "bs = 4\n",
    "data_train = get_tf_data(\n",
    "        file_train,\n",
    "        clinical_df,\n",
    "        output_shape=(224, 224),\n",
    "        random_slice=False,\n",
    "    ).batch(bs)"
   ]
  },
  {
   "cell_type": "code",
   "execution_count": null,
   "metadata": {},
   "outputs": [],
   "source": [
    "x, y_true, plc_status, sick_lung_axis = next(data_test)"
   ]
  },
  {
   "cell_type": "code",
   "execution_count": null,
   "metadata": {},
   "outputs": [],
   "source": [
    "y_pred = model(x)"
   ]
  },
  {
   "cell_type": "code",
   "execution_count": null,
   "metadata": {},
   "outputs": [],
   "source": [
    "np.mean(x[b,:,:,1])"
   ]
  },
  {
   "cell_type": "code",
   "execution_count": null,
   "metadata": {},
   "outputs": [],
   "source": [
    "b=3\n",
    "print(f\"PLC status {plc_status[b]}\")\n",
    "fig = plt.figure(figsize=(4, 4)) \n",
    "#plt.imshow(x[b,:,:,0],cmap='gray')\n",
    "#plt.imshow(y_pred[b, :,:,1], cmap='jet', alpha=0.5)\n",
    "\n",
    "ax = plt.axes()\n",
    "im = ax.imshow(x[b,:,:,0],cmap=\"gray\")\n",
    "im = ax.imshow(y_pred[b, :,:,1], cmap='jet', alpha=0.5)\n",
    "cax = fig.add_axes([ax.get_position().x1+0.01,ax.get_position().y0,0.02,ax.get_position().height])\n",
    "plt.colorbar(im, cax=cax) # Similar to fig.colorbar(im, cax = cax)\n",
    "\n",
    "# plt.savefig(\"../reports/plc_pos_success.png\")\n"
   ]
  },
  {
   "cell_type": "code",
   "execution_count": null,
   "metadata": {},
   "outputs": [],
   "source": [
    "plt.figure(figsize=(4, 4))\n",
    "plt.imshow(x[b,:,:,0],cmap='gray')\n",
    "plt.imshow(y_true[b, :,:,1], cmap='jet', alpha=0.5)\n",
    "# plt.savefig(\"../reports/plc_pos_success_gt.png\")"
   ]
  },
  {
   "cell_type": "code",
   "execution_count": null,
   "metadata": {},
   "outputs": [],
   "source": [
    "x_train, y_true_train, plc_status_train, sick_lung_axis = next(data_train.as_numpy_iterator())\n",
    "y_pred_train = model(x_train)\n",
    "y_pred_b_train = np.copy(y_pred_train)\n",
    "y_pred_b_train[y_pred_b_train>=0.5] = 1\n",
    "y_pred_b_train[y_pred_b_train<0.5] = 0\n"
   ]
  },
  {
   "cell_type": "code",
   "execution_count": null,
   "metadata": {},
   "outputs": [],
   "source": [
    "b=0\n",
    "print(f\"PLC status {plc_status[b]}\")\n",
    "plt.imshow(x_train[b,:,:,0],cmap='gray')\n",
    "plt.imshow(y_pred_train[b, :,:,0], cmap='jet', alpha=0.5)"
   ]
  },
  {
   "cell_type": "code",
   "execution_count": null,
   "metadata": {},
   "outputs": [],
   "source": [
    "plt.imshow(x_train[b,:,:,0],cmap='gray')\n",
    "plt.imshow(y_true_train[b, :,:,0], cmap='jet', alpha=0.5)"
   ]
  },
  {
   "cell_type": "code",
   "execution_count": null,
   "metadata": {},
   "outputs": [],
   "source": []
  }
 ],
 "metadata": {
  "kernelspec": {
   "display_name": "Python 3",
   "language": "python",
   "name": "python3"
  },
  "language_info": {
   "codemirror_mode": {
    "name": "ipython",
    "version": 3
   },
   "file_extension": ".py",
   "mimetype": "text/x-python",
   "name": "python",
   "nbconvert_exporter": "python",
   "pygments_lexer": "ipython3",
   "version": "3.8.0-final"
  }
 },
 "nbformat": 4,
 "nbformat_minor": 2
}