{
 "metadata": {
  "language_info": {
   "codemirror_mode": {
    "name": "ipython",
    "version": 3
   },
   "file_extension": ".py",
   "mimetype": "text/x-python",
   "name": "python",
   "nbconvert_exporter": "python",
   "pygments_lexer": "ipython3",
   "version": "3.8.0-final"
  },
  "orig_nbformat": 2,
  "kernelspec": {
   "name": "python380jvsc74a57bd08596b8d3b26ce6616e7811b8163daf9aea7ff6167af31daab1e43667f4f6ff84",
   "display_name": "Python 3.8.0 64-bit ('env')"
  }
 },
 "nbformat": 4,
 "nbformat_minor": 2,
 "cells": [
  {
   "cell_type": "code",
   "execution_count": 1,
   "metadata": {},
   "outputs": [],
   "source": [
    "import os\n",
    "from pathlib import Path\n",
    "\n",
    "import numpy as np\n",
    "import dotenv\n",
    "import tensorflow as tf\n",
    "import h5py\n",
    "import pandas as pd\n",
    "import matplotlib.pyplot as plt\n",
    "from matplotlib.colors import Normalize\n",
    "import seaborn as sns\n",
    "\n",
    "from src.models.fetch_data_from_hdf5 import get_tf_data\n",
    "from src.models.train_model_2d import CustomLoss"
   ]
  },
  {
   "cell_type": "code",
   "execution_count": 2,
   "metadata": {},
   "outputs": [],
   "source": [
    "project_dir = Path(\"../\")\n",
    "dotenv_path = project_dir / \".env\"\n",
    "dotenv.load_dotenv(str(dotenv_path))\n",
    "\n",
    "path_clinical_info = Path(os.environ[\"CLINIC_INFO_PATH\"])\n",
    "\n",
    "model = \"model_gtvl_only\"\n",
    "model_path = project_dir / f\"models/clean_model/{model}\"\n",
    "path_volume_csv = project_dir / f\"data/plc_volume/{model}.csv\"\n",
    "\n",
    "bs = 4\n",
    "image_size = (256, 256)"
   ]
  },
  {
   "cell_type": "code",
   "execution_count": 3,
   "metadata": {},
   "outputs": [],
   "source": [
    "clinical_df = pd.read_csv(path_clinical_info).set_index(\"patient_id\")\n",
    "\n",
    "volume_pred_df = pd.read_csv(path_volume_csv)\n",
    "volume_pred_df[\"patient_id\"] = volume_pred_df[\"patient_id\"].astype(int)\n",
    "volume_pred_df = volume_pred_df.set_index(\"patient_id\")\n",
    "\n",
    "df = pd.concat([clinical_df, volume_pred_df], axis=1)\n",
    "df = df.dropna(axis=0)\n"
   ]
  },
  {
   "cell_type": "code",
   "execution_count": 4,
   "metadata": {},
   "outputs": [],
   "source": [
    "df[\"plc_volume_cubed\"] = df[\"plc_volume\"].map(lambda x: np.cbrt(x))"
   ]
  },
  {
   "cell_type": "code",
   "execution_count": 5,
   "metadata": {},
   "outputs": [
    {
     "output_type": "execute_result",
     "data": {
      "text/plain": [
       "<AxesSubplot:xlabel='plc_status', ylabel='plc_volume_cubed'>"
      ]
     },
     "metadata": {},
     "execution_count": 5
    },
    {
     "output_type": "display_data",
     "data": {
      "text/plain": "<Figure size 360x360 with 1 Axes>",
      "image/svg+xml": "<?xml version=\"1.0\" encoding=\"utf-8\" standalone=\"no\"?>\n<!DOCTYPE svg PUBLIC \"-//W3C//DTD SVG 1.1//EN\"\n  \"http://www.w3.org/Graphics/SVG/1.1/DTD/svg11.dtd\">\n<!-- Created with matplotlib (https://matplotlib.org/) -->\n<svg height=\"366.434375pt\" version=\"1.1\" viewBox=\"0 0 366.73125 366.434375\" width=\"366.73125pt\" xmlns=\"http://www.w3.org/2000/svg\" xmlns:xlink=\"http://www.w3.org/1999/xlink\">\n <metadata>\n  <rdf:RDF xmlns:cc=\"http://creativecommons.org/ns#\" xmlns:dc=\"http://purl.org/dc/elements/1.1/\" xmlns:rdf=\"http://www.w3.org/1999/02/22-rdf-syntax-ns#\">\n   <cc:Work>\n    <dc:type rdf:resource=\"http://purl.org/dc/dcmitype/StillImage\"/>\n    <dc:date>2021-04-01T16:36:52.446263</dc:date>\n    <dc:format>image/svg+xml</dc:format>\n    <dc:creator>\n     <cc:Agent>\n      <dc:title>Matplotlib v3.3.3, https://matplotlib.org/</dc:title>\n     </cc:Agent>\n    </dc:creator>\n   </cc:Work>\n  </rdf:RDF>\n </metadata>\n <defs>\n  <style type=\"text/css\">*{stroke-linecap:butt;stroke-linejoin:round;}</style>\n </defs>\n <g id=\"figure_1\">\n  <g id=\"patch_1\">\n   <path d=\"M 0 366.434375 \nL 366.73125 366.434375 \nL 366.73125 0 \nL 0 0 \nz\n\" style=\"fill:none;\"/>\n  </g>\n  <g id=\"axes_1\">\n   <g id=\"patch_2\">\n    <path d=\"M 40.88125 328.6 \nL 359.53125 328.6 \nL 359.53125 7.2 \nL 40.88125 7.2 \nz\n\" style=\"fill:#ffffff;\"/>\n   </g>\n   <g id=\"patch_3\">\n    <path clip-path=\"url(#pa783a7062e)\" d=\"M 112.5775 274.931723 \nL 128.51 274.931723 \nL 128.51 245.285209 \nL 112.5775 245.285209 \nL 112.5775 274.931723 \nz\n\" style=\"fill:#3274a1;stroke:#3f3f3f;stroke-linejoin:miter;stroke-width:1.5;\"/>\n   </g>\n   <g id=\"patch_4\">\n    <path clip-path=\"url(#pa783a7062e)\" d=\"M 271.9025 263.281631 \nL 287.835 263.281631 \nL 287.835 117.053002 \nL 271.9025 117.053002 \nL 271.9025 263.281631 \nz\n\" style=\"fill:#e1812c;stroke:#3f3f3f;stroke-linejoin:miter;stroke-width:1.5;\"/>\n   </g>\n   <g id=\"matplotlib.axis_1\">\n    <g id=\"xtick_1\">\n     <g id=\"line2d_1\">\n      <defs>\n       <path d=\"M 0 0 \nL 0 3.5 \n\" id=\"ma4cc8a5534\" style=\"stroke:#000000;stroke-width:0.8;\"/>\n      </defs>\n      <g>\n       <use style=\"stroke:#000000;stroke-width:0.8;\" x=\"120.54375\" xlink:href=\"#ma4cc8a5534\" y=\"328.6\"/>\n      </g>\n     </g>\n     <g id=\"text_1\">\n      <!-- 0 -->\n      <g transform=\"translate(117.3625 343.198437)scale(0.1 -0.1)\">\n       <defs>\n        <path d=\"M 31.78125 66.40625 \nQ 24.171875 66.40625 20.328125 58.90625 \nQ 16.5 51.421875 16.5 36.375 \nQ 16.5 21.390625 20.328125 13.890625 \nQ 24.171875 6.390625 31.78125 6.390625 \nQ 39.453125 6.390625 43.28125 13.890625 \nQ 47.125 21.390625 47.125 36.375 \nQ 47.125 51.421875 43.28125 58.90625 \nQ 39.453125 66.40625 31.78125 66.40625 \nz\nM 31.78125 74.21875 \nQ 44.046875 74.21875 50.515625 64.515625 \nQ 56.984375 54.828125 56.984375 36.375 \nQ 56.984375 17.96875 50.515625 8.265625 \nQ 44.046875 -1.421875 31.78125 -1.421875 \nQ 19.53125 -1.421875 13.0625 8.265625 \nQ 6.59375 17.96875 6.59375 36.375 \nQ 6.59375 54.828125 13.0625 64.515625 \nQ 19.53125 74.21875 31.78125 74.21875 \nz\n\" id=\"DejaVuSans-48\"/>\n       </defs>\n       <use xlink:href=\"#DejaVuSans-48\"/>\n      </g>\n     </g>\n    </g>\n    <g id=\"xtick_2\">\n     <g id=\"line2d_2\">\n      <g>\n       <use style=\"stroke:#000000;stroke-width:0.8;\" x=\"279.86875\" xlink:href=\"#ma4cc8a5534\" y=\"328.6\"/>\n      </g>\n     </g>\n     <g id=\"text_2\">\n      <!-- 1 -->\n      <g transform=\"translate(276.6875 343.198437)scale(0.1 -0.1)\">\n       <defs>\n        <path d=\"M 12.40625 8.296875 \nL 28.515625 8.296875 \nL 28.515625 63.921875 \nL 10.984375 60.40625 \nL 10.984375 69.390625 \nL 28.421875 72.90625 \nL 38.28125 72.90625 \nL 38.28125 8.296875 \nL 54.390625 8.296875 \nL 54.390625 0 \nL 12.40625 0 \nz\n\" id=\"DejaVuSans-49\"/>\n       </defs>\n       <use xlink:href=\"#DejaVuSans-49\"/>\n      </g>\n     </g>\n    </g>\n    <g id=\"text_3\">\n     <!-- plc_status -->\n     <g transform=\"translate(175.03125 356.876562)scale(0.1 -0.1)\">\n      <defs>\n       <path d=\"M 18.109375 8.203125 \nL 18.109375 -20.796875 \nL 9.078125 -20.796875 \nL 9.078125 54.6875 \nL 18.109375 54.6875 \nL 18.109375 46.390625 \nQ 20.953125 51.265625 25.265625 53.625 \nQ 29.59375 56 35.59375 56 \nQ 45.5625 56 51.78125 48.09375 \nQ 58.015625 40.1875 58.015625 27.296875 \nQ 58.015625 14.40625 51.78125 6.484375 \nQ 45.5625 -1.421875 35.59375 -1.421875 \nQ 29.59375 -1.421875 25.265625 0.953125 \nQ 20.953125 3.328125 18.109375 8.203125 \nz\nM 48.6875 27.296875 \nQ 48.6875 37.203125 44.609375 42.84375 \nQ 40.53125 48.484375 33.40625 48.484375 \nQ 26.265625 48.484375 22.1875 42.84375 \nQ 18.109375 37.203125 18.109375 27.296875 \nQ 18.109375 17.390625 22.1875 11.75 \nQ 26.265625 6.109375 33.40625 6.109375 \nQ 40.53125 6.109375 44.609375 11.75 \nQ 48.6875 17.390625 48.6875 27.296875 \nz\n\" id=\"DejaVuSans-112\"/>\n       <path d=\"M 9.421875 75.984375 \nL 18.40625 75.984375 \nL 18.40625 0 \nL 9.421875 0 \nz\n\" id=\"DejaVuSans-108\"/>\n       <path d=\"M 48.78125 52.59375 \nL 48.78125 44.1875 \nQ 44.96875 46.296875 41.140625 47.34375 \nQ 37.3125 48.390625 33.40625 48.390625 \nQ 24.65625 48.390625 19.8125 42.84375 \nQ 14.984375 37.3125 14.984375 27.296875 \nQ 14.984375 17.28125 19.8125 11.734375 \nQ 24.65625 6.203125 33.40625 6.203125 \nQ 37.3125 6.203125 41.140625 7.25 \nQ 44.96875 8.296875 48.78125 10.40625 \nL 48.78125 2.09375 \nQ 45.015625 0.34375 40.984375 -0.53125 \nQ 36.96875 -1.421875 32.421875 -1.421875 \nQ 20.0625 -1.421875 12.78125 6.34375 \nQ 5.515625 14.109375 5.515625 27.296875 \nQ 5.515625 40.671875 12.859375 48.328125 \nQ 20.21875 56 33.015625 56 \nQ 37.15625 56 41.109375 55.140625 \nQ 45.0625 54.296875 48.78125 52.59375 \nz\n\" id=\"DejaVuSans-99\"/>\n       <path d=\"M 50.984375 -16.609375 \nL 50.984375 -23.578125 \nL -0.984375 -23.578125 \nL -0.984375 -16.609375 \nz\n\" id=\"DejaVuSans-95\"/>\n       <path d=\"M 44.28125 53.078125 \nL 44.28125 44.578125 \nQ 40.484375 46.53125 36.375 47.5 \nQ 32.28125 48.484375 27.875 48.484375 \nQ 21.1875 48.484375 17.84375 46.4375 \nQ 14.5 44.390625 14.5 40.28125 \nQ 14.5 37.15625 16.890625 35.375 \nQ 19.28125 33.59375 26.515625 31.984375 \nL 29.59375 31.296875 \nQ 39.15625 29.25 43.1875 25.515625 \nQ 47.21875 21.78125 47.21875 15.09375 \nQ 47.21875 7.46875 41.1875 3.015625 \nQ 35.15625 -1.421875 24.609375 -1.421875 \nQ 20.21875 -1.421875 15.453125 -0.5625 \nQ 10.6875 0.296875 5.421875 2 \nL 5.421875 11.28125 \nQ 10.40625 8.6875 15.234375 7.390625 \nQ 20.0625 6.109375 24.8125 6.109375 \nQ 31.15625 6.109375 34.5625 8.28125 \nQ 37.984375 10.453125 37.984375 14.40625 \nQ 37.984375 18.0625 35.515625 20.015625 \nQ 33.0625 21.96875 24.703125 23.78125 \nL 21.578125 24.515625 \nQ 13.234375 26.265625 9.515625 29.90625 \nQ 5.8125 33.546875 5.8125 39.890625 \nQ 5.8125 47.609375 11.28125 51.796875 \nQ 16.75 56 26.8125 56 \nQ 31.78125 56 36.171875 55.265625 \nQ 40.578125 54.546875 44.28125 53.078125 \nz\n\" id=\"DejaVuSans-115\"/>\n       <path d=\"M 18.3125 70.21875 \nL 18.3125 54.6875 \nL 36.8125 54.6875 \nL 36.8125 47.703125 \nL 18.3125 47.703125 \nL 18.3125 18.015625 \nQ 18.3125 11.328125 20.140625 9.421875 \nQ 21.96875 7.515625 27.59375 7.515625 \nL 36.8125 7.515625 \nL 36.8125 0 \nL 27.59375 0 \nQ 17.1875 0 13.234375 3.875 \nQ 9.28125 7.765625 9.28125 18.015625 \nL 9.28125 47.703125 \nL 2.6875 47.703125 \nL 2.6875 54.6875 \nL 9.28125 54.6875 \nL 9.28125 70.21875 \nz\n\" id=\"DejaVuSans-116\"/>\n       <path d=\"M 34.28125 27.484375 \nQ 23.390625 27.484375 19.1875 25 \nQ 14.984375 22.515625 14.984375 16.5 \nQ 14.984375 11.71875 18.140625 8.90625 \nQ 21.296875 6.109375 26.703125 6.109375 \nQ 34.1875 6.109375 38.703125 11.40625 \nQ 43.21875 16.703125 43.21875 25.484375 \nL 43.21875 27.484375 \nz\nM 52.203125 31.203125 \nL 52.203125 0 \nL 43.21875 0 \nL 43.21875 8.296875 \nQ 40.140625 3.328125 35.546875 0.953125 \nQ 30.953125 -1.421875 24.3125 -1.421875 \nQ 15.921875 -1.421875 10.953125 3.296875 \nQ 6 8.015625 6 15.921875 \nQ 6 25.140625 12.171875 29.828125 \nQ 18.359375 34.515625 30.609375 34.515625 \nL 43.21875 34.515625 \nL 43.21875 35.40625 \nQ 43.21875 41.609375 39.140625 45 \nQ 35.0625 48.390625 27.6875 48.390625 \nQ 23 48.390625 18.546875 47.265625 \nQ 14.109375 46.140625 10.015625 43.890625 \nL 10.015625 52.203125 \nQ 14.9375 54.109375 19.578125 55.046875 \nQ 24.21875 56 28.609375 56 \nQ 40.484375 56 46.34375 49.84375 \nQ 52.203125 43.703125 52.203125 31.203125 \nz\n\" id=\"DejaVuSans-97\"/>\n       <path d=\"M 8.5 21.578125 \nL 8.5 54.6875 \nL 17.484375 54.6875 \nL 17.484375 21.921875 \nQ 17.484375 14.15625 20.5 10.265625 \nQ 23.53125 6.390625 29.59375 6.390625 \nQ 36.859375 6.390625 41.078125 11.03125 \nQ 45.3125 15.671875 45.3125 23.6875 \nL 45.3125 54.6875 \nL 54.296875 54.6875 \nL 54.296875 0 \nL 45.3125 0 \nL 45.3125 8.40625 \nQ 42.046875 3.421875 37.71875 1 \nQ 33.40625 -1.421875 27.6875 -1.421875 \nQ 18.265625 -1.421875 13.375 4.4375 \nQ 8.5 10.296875 8.5 21.578125 \nz\nM 31.109375 56 \nz\n\" id=\"DejaVuSans-117\"/>\n      </defs>\n      <use xlink:href=\"#DejaVuSans-112\"/>\n      <use x=\"63.476562\" xlink:href=\"#DejaVuSans-108\"/>\n      <use x=\"91.259766\" xlink:href=\"#DejaVuSans-99\"/>\n      <use x=\"146.240234\" xlink:href=\"#DejaVuSans-95\"/>\n      <use x=\"196.240234\" xlink:href=\"#DejaVuSans-115\"/>\n      <use x=\"248.339844\" xlink:href=\"#DejaVuSans-116\"/>\n      <use x=\"287.548828\" xlink:href=\"#DejaVuSans-97\"/>\n      <use x=\"348.828125\" xlink:href=\"#DejaVuSans-116\"/>\n      <use x=\"388.037109\" xlink:href=\"#DejaVuSans-117\"/>\n      <use x=\"451.416016\" xlink:href=\"#DejaVuSans-115\"/>\n     </g>\n    </g>\n   </g>\n   <g id=\"matplotlib.axis_2\">\n    <g id=\"ytick_1\">\n     <g id=\"line2d_3\">\n      <defs>\n       <path d=\"M 0 0 \nL -3.5 0 \n\" id=\"ma197482a61\" style=\"stroke:#000000;stroke-width:0.8;\"/>\n      </defs>\n      <g>\n       <use style=\"stroke:#000000;stroke-width:0.8;\" x=\"40.88125\" xlink:href=\"#ma197482a61\" y=\"313.990909\"/>\n      </g>\n     </g>\n     <g id=\"text_4\">\n      <!-- 0 -->\n      <g transform=\"translate(27.51875 317.790128)scale(0.1 -0.1)\">\n       <use xlink:href=\"#DejaVuSans-48\"/>\n      </g>\n     </g>\n    </g>\n    <g id=\"ytick_2\">\n     <g id=\"line2d_4\">\n      <g>\n       <use style=\"stroke:#000000;stroke-width:0.8;\" x=\"40.88125\" xlink:href=\"#ma197482a61\" y=\"269.147536\"/>\n      </g>\n     </g>\n     <g id=\"text_5\">\n      <!-- 5 -->\n      <g transform=\"translate(27.51875 272.946754)scale(0.1 -0.1)\">\n       <defs>\n        <path d=\"M 10.796875 72.90625 \nL 49.515625 72.90625 \nL 49.515625 64.59375 \nL 19.828125 64.59375 \nL 19.828125 46.734375 \nQ 21.96875 47.46875 24.109375 47.828125 \nQ 26.265625 48.1875 28.421875 48.1875 \nQ 40.625 48.1875 47.75 41.5 \nQ 54.890625 34.8125 54.890625 23.390625 \nQ 54.890625 11.625 47.5625 5.09375 \nQ 40.234375 -1.421875 26.90625 -1.421875 \nQ 22.3125 -1.421875 17.546875 -0.640625 \nQ 12.796875 0.140625 7.71875 1.703125 \nL 7.71875 11.625 \nQ 12.109375 9.234375 16.796875 8.0625 \nQ 21.484375 6.890625 26.703125 6.890625 \nQ 35.15625 6.890625 40.078125 11.328125 \nQ 45.015625 15.765625 45.015625 23.390625 \nQ 45.015625 31 40.078125 35.4375 \nQ 35.15625 39.890625 26.703125 39.890625 \nQ 22.75 39.890625 18.8125 39.015625 \nQ 14.890625 38.140625 10.796875 36.28125 \nz\n\" id=\"DejaVuSans-53\"/>\n       </defs>\n       <use xlink:href=\"#DejaVuSans-53\"/>\n      </g>\n     </g>\n    </g>\n    <g id=\"ytick_3\">\n     <g id=\"line2d_5\">\n      <g>\n       <use style=\"stroke:#000000;stroke-width:0.8;\" x=\"40.88125\" xlink:href=\"#ma197482a61\" y=\"224.304162\"/>\n      </g>\n     </g>\n     <g id=\"text_6\">\n      <!-- 10 -->\n      <g transform=\"translate(21.15625 228.103381)scale(0.1 -0.1)\">\n       <use xlink:href=\"#DejaVuSans-49\"/>\n       <use x=\"63.623047\" xlink:href=\"#DejaVuSans-48\"/>\n      </g>\n     </g>\n    </g>\n    <g id=\"ytick_4\">\n     <g id=\"line2d_6\">\n      <g>\n       <use style=\"stroke:#000000;stroke-width:0.8;\" x=\"40.88125\" xlink:href=\"#ma197482a61\" y=\"179.460789\"/>\n      </g>\n     </g>\n     <g id=\"text_7\">\n      <!-- 15 -->\n      <g transform=\"translate(21.15625 183.260008)scale(0.1 -0.1)\">\n       <use xlink:href=\"#DejaVuSans-49\"/>\n       <use x=\"63.623047\" xlink:href=\"#DejaVuSans-53\"/>\n      </g>\n     </g>\n    </g>\n    <g id=\"ytick_5\">\n     <g id=\"line2d_7\">\n      <g>\n       <use style=\"stroke:#000000;stroke-width:0.8;\" x=\"40.88125\" xlink:href=\"#ma197482a61\" y=\"134.617416\"/>\n      </g>\n     </g>\n     <g id=\"text_8\">\n      <!-- 20 -->\n      <g transform=\"translate(21.15625 138.416634)scale(0.1 -0.1)\">\n       <defs>\n        <path d=\"M 19.1875 8.296875 \nL 53.609375 8.296875 \nL 53.609375 0 \nL 7.328125 0 \nL 7.328125 8.296875 \nQ 12.9375 14.109375 22.625 23.890625 \nQ 32.328125 33.6875 34.8125 36.53125 \nQ 39.546875 41.84375 41.421875 45.53125 \nQ 43.3125 49.21875 43.3125 52.78125 \nQ 43.3125 58.59375 39.234375 62.25 \nQ 35.15625 65.921875 28.609375 65.921875 \nQ 23.96875 65.921875 18.8125 64.3125 \nQ 13.671875 62.703125 7.8125 59.421875 \nL 7.8125 69.390625 \nQ 13.765625 71.78125 18.9375 73 \nQ 24.125 74.21875 28.421875 74.21875 \nQ 39.75 74.21875 46.484375 68.546875 \nQ 53.21875 62.890625 53.21875 53.421875 \nQ 53.21875 48.921875 51.53125 44.890625 \nQ 49.859375 40.875 45.40625 35.40625 \nQ 44.1875 33.984375 37.640625 27.21875 \nQ 31.109375 20.453125 19.1875 8.296875 \nz\n\" id=\"DejaVuSans-50\"/>\n       </defs>\n       <use xlink:href=\"#DejaVuSans-50\"/>\n       <use x=\"63.623047\" xlink:href=\"#DejaVuSans-48\"/>\n      </g>\n     </g>\n    </g>\n    <g id=\"ytick_6\">\n     <g id=\"line2d_8\">\n      <g>\n       <use style=\"stroke:#000000;stroke-width:0.8;\" x=\"40.88125\" xlink:href=\"#ma197482a61\" y=\"89.774042\"/>\n      </g>\n     </g>\n     <g id=\"text_9\">\n      <!-- 25 -->\n      <g transform=\"translate(21.15625 93.573261)scale(0.1 -0.1)\">\n       <use xlink:href=\"#DejaVuSans-50\"/>\n       <use x=\"63.623047\" xlink:href=\"#DejaVuSans-53\"/>\n      </g>\n     </g>\n    </g>\n    <g id=\"ytick_7\">\n     <g id=\"line2d_9\">\n      <g>\n       <use style=\"stroke:#000000;stroke-width:0.8;\" x=\"40.88125\" xlink:href=\"#ma197482a61\" y=\"44.930669\"/>\n      </g>\n     </g>\n     <g id=\"text_10\">\n      <!-- 30 -->\n      <g transform=\"translate(21.15625 48.729888)scale(0.1 -0.1)\">\n       <defs>\n        <path d=\"M 40.578125 39.3125 \nQ 47.65625 37.796875 51.625 33 \nQ 55.609375 28.21875 55.609375 21.1875 \nQ 55.609375 10.40625 48.1875 4.484375 \nQ 40.765625 -1.421875 27.09375 -1.421875 \nQ 22.515625 -1.421875 17.65625 -0.515625 \nQ 12.796875 0.390625 7.625 2.203125 \nL 7.625 11.71875 \nQ 11.71875 9.328125 16.59375 8.109375 \nQ 21.484375 6.890625 26.8125 6.890625 \nQ 36.078125 6.890625 40.9375 10.546875 \nQ 45.796875 14.203125 45.796875 21.1875 \nQ 45.796875 27.640625 41.28125 31.265625 \nQ 36.765625 34.90625 28.71875 34.90625 \nL 20.21875 34.90625 \nL 20.21875 43.015625 \nL 29.109375 43.015625 \nQ 36.375 43.015625 40.234375 45.921875 \nQ 44.09375 48.828125 44.09375 54.296875 \nQ 44.09375 59.90625 40.109375 62.90625 \nQ 36.140625 65.921875 28.71875 65.921875 \nQ 24.65625 65.921875 20.015625 65.03125 \nQ 15.375 64.15625 9.8125 62.3125 \nL 9.8125 71.09375 \nQ 15.4375 72.65625 20.34375 73.4375 \nQ 25.25 74.21875 29.59375 74.21875 \nQ 40.828125 74.21875 47.359375 69.109375 \nQ 53.90625 64.015625 53.90625 55.328125 \nQ 53.90625 49.265625 50.4375 45.09375 \nQ 46.96875 40.921875 40.578125 39.3125 \nz\n\" id=\"DejaVuSans-51\"/>\n       </defs>\n       <use xlink:href=\"#DejaVuSans-51\"/>\n       <use x=\"63.623047\" xlink:href=\"#DejaVuSans-48\"/>\n      </g>\n     </g>\n    </g>\n    <g id=\"text_11\">\n     <!-- plc_volume_cubed -->\n     <g transform=\"translate(14.798438 214.078906)rotate(-90)scale(0.1 -0.1)\">\n      <defs>\n       <path d=\"M 2.984375 54.6875 \nL 12.5 54.6875 \nL 29.59375 8.796875 \nL 46.6875 54.6875 \nL 56.203125 54.6875 \nL 35.6875 0 \nL 23.484375 0 \nz\n\" id=\"DejaVuSans-118\"/>\n       <path d=\"M 30.609375 48.390625 \nQ 23.390625 48.390625 19.1875 42.75 \nQ 14.984375 37.109375 14.984375 27.296875 \nQ 14.984375 17.484375 19.15625 11.84375 \nQ 23.34375 6.203125 30.609375 6.203125 \nQ 37.796875 6.203125 41.984375 11.859375 \nQ 46.1875 17.53125 46.1875 27.296875 \nQ 46.1875 37.015625 41.984375 42.703125 \nQ 37.796875 48.390625 30.609375 48.390625 \nz\nM 30.609375 56 \nQ 42.328125 56 49.015625 48.375 \nQ 55.71875 40.765625 55.71875 27.296875 \nQ 55.71875 13.875 49.015625 6.21875 \nQ 42.328125 -1.421875 30.609375 -1.421875 \nQ 18.84375 -1.421875 12.171875 6.21875 \nQ 5.515625 13.875 5.515625 27.296875 \nQ 5.515625 40.765625 12.171875 48.375 \nQ 18.84375 56 30.609375 56 \nz\n\" id=\"DejaVuSans-111\"/>\n       <path d=\"M 52 44.1875 \nQ 55.375 50.25 60.0625 53.125 \nQ 64.75 56 71.09375 56 \nQ 79.640625 56 84.28125 50.015625 \nQ 88.921875 44.046875 88.921875 33.015625 \nL 88.921875 0 \nL 79.890625 0 \nL 79.890625 32.71875 \nQ 79.890625 40.578125 77.09375 44.375 \nQ 74.3125 48.1875 68.609375 48.1875 \nQ 61.625 48.1875 57.5625 43.546875 \nQ 53.515625 38.921875 53.515625 30.90625 \nL 53.515625 0 \nL 44.484375 0 \nL 44.484375 32.71875 \nQ 44.484375 40.625 41.703125 44.40625 \nQ 38.921875 48.1875 33.109375 48.1875 \nQ 26.21875 48.1875 22.15625 43.53125 \nQ 18.109375 38.875 18.109375 30.90625 \nL 18.109375 0 \nL 9.078125 0 \nL 9.078125 54.6875 \nL 18.109375 54.6875 \nL 18.109375 46.1875 \nQ 21.1875 51.21875 25.484375 53.609375 \nQ 29.78125 56 35.6875 56 \nQ 41.65625 56 45.828125 52.96875 \nQ 50 49.953125 52 44.1875 \nz\n\" id=\"DejaVuSans-109\"/>\n       <path d=\"M 56.203125 29.59375 \nL 56.203125 25.203125 \nL 14.890625 25.203125 \nQ 15.484375 15.921875 20.484375 11.0625 \nQ 25.484375 6.203125 34.421875 6.203125 \nQ 39.59375 6.203125 44.453125 7.46875 \nQ 49.3125 8.734375 54.109375 11.28125 \nL 54.109375 2.78125 \nQ 49.265625 0.734375 44.1875 -0.34375 \nQ 39.109375 -1.421875 33.890625 -1.421875 \nQ 20.796875 -1.421875 13.15625 6.1875 \nQ 5.515625 13.8125 5.515625 26.8125 \nQ 5.515625 40.234375 12.765625 48.109375 \nQ 20.015625 56 32.328125 56 \nQ 43.359375 56 49.78125 48.890625 \nQ 56.203125 41.796875 56.203125 29.59375 \nz\nM 47.21875 32.234375 \nQ 47.125 39.59375 43.09375 43.984375 \nQ 39.0625 48.390625 32.421875 48.390625 \nQ 24.90625 48.390625 20.390625 44.140625 \nQ 15.875 39.890625 15.1875 32.171875 \nz\n\" id=\"DejaVuSans-101\"/>\n       <path d=\"M 48.6875 27.296875 \nQ 48.6875 37.203125 44.609375 42.84375 \nQ 40.53125 48.484375 33.40625 48.484375 \nQ 26.265625 48.484375 22.1875 42.84375 \nQ 18.109375 37.203125 18.109375 27.296875 \nQ 18.109375 17.390625 22.1875 11.75 \nQ 26.265625 6.109375 33.40625 6.109375 \nQ 40.53125 6.109375 44.609375 11.75 \nQ 48.6875 17.390625 48.6875 27.296875 \nz\nM 18.109375 46.390625 \nQ 20.953125 51.265625 25.265625 53.625 \nQ 29.59375 56 35.59375 56 \nQ 45.5625 56 51.78125 48.09375 \nQ 58.015625 40.1875 58.015625 27.296875 \nQ 58.015625 14.40625 51.78125 6.484375 \nQ 45.5625 -1.421875 35.59375 -1.421875 \nQ 29.59375 -1.421875 25.265625 0.953125 \nQ 20.953125 3.328125 18.109375 8.203125 \nL 18.109375 0 \nL 9.078125 0 \nL 9.078125 75.984375 \nL 18.109375 75.984375 \nz\n\" id=\"DejaVuSans-98\"/>\n       <path d=\"M 45.40625 46.390625 \nL 45.40625 75.984375 \nL 54.390625 75.984375 \nL 54.390625 0 \nL 45.40625 0 \nL 45.40625 8.203125 \nQ 42.578125 3.328125 38.25 0.953125 \nQ 33.9375 -1.421875 27.875 -1.421875 \nQ 17.96875 -1.421875 11.734375 6.484375 \nQ 5.515625 14.40625 5.515625 27.296875 \nQ 5.515625 40.1875 11.734375 48.09375 \nQ 17.96875 56 27.875 56 \nQ 33.9375 56 38.25 53.625 \nQ 42.578125 51.265625 45.40625 46.390625 \nz\nM 14.796875 27.296875 \nQ 14.796875 17.390625 18.875 11.75 \nQ 22.953125 6.109375 30.078125 6.109375 \nQ 37.203125 6.109375 41.296875 11.75 \nQ 45.40625 17.390625 45.40625 27.296875 \nQ 45.40625 37.203125 41.296875 42.84375 \nQ 37.203125 48.484375 30.078125 48.484375 \nQ 22.953125 48.484375 18.875 42.84375 \nQ 14.796875 37.203125 14.796875 27.296875 \nz\n\" id=\"DejaVuSans-100\"/>\n      </defs>\n      <use xlink:href=\"#DejaVuSans-112\"/>\n      <use x=\"63.476562\" xlink:href=\"#DejaVuSans-108\"/>\n      <use x=\"91.259766\" xlink:href=\"#DejaVuSans-99\"/>\n      <use x=\"146.240234\" xlink:href=\"#DejaVuSans-95\"/>\n      <use x=\"196.240234\" xlink:href=\"#DejaVuSans-118\"/>\n      <use x=\"255.419922\" xlink:href=\"#DejaVuSans-111\"/>\n      <use x=\"316.601562\" xlink:href=\"#DejaVuSans-108\"/>\n      <use x=\"344.384766\" xlink:href=\"#DejaVuSans-117\"/>\n      <use x=\"407.763672\" xlink:href=\"#DejaVuSans-109\"/>\n      <use x=\"505.175781\" xlink:href=\"#DejaVuSans-101\"/>\n      <use x=\"566.699219\" xlink:href=\"#DejaVuSans-95\"/>\n      <use x=\"616.699219\" xlink:href=\"#DejaVuSans-99\"/>\n      <use x=\"671.679688\" xlink:href=\"#DejaVuSans-117\"/>\n      <use x=\"735.058594\" xlink:href=\"#DejaVuSans-98\"/>\n      <use x=\"798.535156\" xlink:href=\"#DejaVuSans-101\"/>\n      <use x=\"860.058594\" xlink:href=\"#DejaVuSans-100\"/>\n     </g>\n    </g>\n   </g>\n   <g id=\"line2d_10\">\n    <path clip-path=\"url(#pa783a7062e)\" d=\"M 120.54375 274.931723 \nL 120.54375 305.022234 \n\" style=\"fill:none;stroke:#3f3f3f;stroke-linecap:square;stroke-width:1.5;\"/>\n   </g>\n   <g id=\"line2d_11\">\n    <path clip-path=\"url(#pa783a7062e)\" d=\"M 120.54375 245.285209 \nL 120.54375 205.359 \n\" style=\"fill:none;stroke:#3f3f3f;stroke-linecap:square;stroke-width:1.5;\"/>\n   </g>\n   <g id=\"line2d_12\">\n    <path clip-path=\"url(#pa783a7062e)\" d=\"M 116.560625 305.022234 \nL 124.526875 305.022234 \n\" style=\"fill:none;stroke:#3f3f3f;stroke-linecap:square;stroke-width:1.5;\"/>\n   </g>\n   <g id=\"line2d_13\">\n    <path clip-path=\"url(#pa783a7062e)\" d=\"M 116.560625 205.359 \nL 124.526875 205.359 \n\" style=\"fill:none;stroke:#3f3f3f;stroke-linecap:square;stroke-width:1.5;\"/>\n   </g>\n   <g id=\"line2d_14\"/>\n   <g id=\"line2d_15\">\n    <path clip-path=\"url(#pa783a7062e)\" d=\"M 279.86875 263.281631 \nL 279.86875 313.990909 \n\" style=\"fill:none;stroke:#3f3f3f;stroke-linecap:square;stroke-width:1.5;\"/>\n   </g>\n   <g id=\"line2d_16\">\n    <path clip-path=\"url(#pa783a7062e)\" d=\"M 279.86875 117.053002 \nL 279.86875 21.809091 \n\" style=\"fill:none;stroke:#3f3f3f;stroke-linecap:square;stroke-width:1.5;\"/>\n   </g>\n   <g id=\"line2d_17\">\n    <path clip-path=\"url(#pa783a7062e)\" d=\"M 275.885625 313.990909 \nL 283.851875 313.990909 \n\" style=\"fill:none;stroke:#3f3f3f;stroke-linecap:square;stroke-width:1.5;\"/>\n   </g>\n   <g id=\"line2d_18\">\n    <path clip-path=\"url(#pa783a7062e)\" d=\"M 275.885625 21.809091 \nL 283.851875 21.809091 \n\" style=\"fill:none;stroke:#3f3f3f;stroke-linecap:square;stroke-width:1.5;\"/>\n   </g>\n   <g id=\"line2d_19\"/>\n   <g id=\"line2d_20\">\n    <path clip-path=\"url(#pa783a7062e)\" d=\"M 112.5775 265.451307 \nL 128.51 265.451307 \n\" style=\"fill:none;stroke:#3f3f3f;stroke-linecap:square;stroke-width:1.5;\"/>\n   </g>\n   <g id=\"line2d_21\">\n    <path clip-path=\"url(#pa783a7062e)\" d=\"M 271.9025 177.367739 \nL 287.835 177.367739 \n\" style=\"fill:none;stroke:#3f3f3f;stroke-linecap:square;stroke-width:1.5;\"/>\n   </g>\n   <g id=\"patch_5\">\n    <path d=\"M 40.88125 328.6 \nL 40.88125 7.2 \n\" style=\"fill:none;stroke:#000000;stroke-linecap:square;stroke-linejoin:miter;stroke-width:0.8;\"/>\n   </g>\n   <g id=\"patch_6\">\n    <path d=\"M 40.88125 328.6 \nL 359.53125 328.6 \n\" style=\"fill:none;stroke:#000000;stroke-linecap:square;stroke-linejoin:miter;stroke-width:0.8;\"/>\n   </g>\n   <g id=\"PathCollection_1\">\n    <defs>\n     <path d=\"M 0 2.5 \nC 0.663008 2.5 1.29895 2.236584 1.767767 1.767767 \nC 2.236584 1.29895 2.5 0.663008 2.5 -0 \nC 2.5 -0.663008 2.236584 -1.29895 1.767767 -1.767767 \nC 1.29895 -2.236584 0.663008 -2.5 0 -2.5 \nC -0.663008 -2.5 -1.29895 -2.236584 -1.767767 -1.767767 \nC -2.236584 -1.29895 -2.5 -0.663008 -2.5 0 \nC -2.5 0.663008 -2.236584 1.29895 -1.767767 1.767767 \nC -1.29895 2.236584 -0.663008 2.5 0 2.5 \nz\n\" id=\"C0_0_9b43e5ce21\"/>\n    </defs>\n    <g clip-path=\"url(#pa783a7062e)\">\n     <use x=\"120.54375\" xlink:href=\"#C0_0_9b43e5ce21\" y=\"305.022234\"/>\n    </g>\n    <g clip-path=\"url(#pa783a7062e)\">\n     <use x=\"120.54375\" xlink:href=\"#C0_0_9b43e5ce21\" y=\"280.091443\"/>\n    </g>\n    <g clip-path=\"url(#pa783a7062e)\">\n     <use x=\"120.54375\" xlink:href=\"#C0_0_9b43e5ce21\" y=\"273.211817\"/>\n    </g>\n    <g clip-path=\"url(#pa783a7062e)\">\n     <use x=\"120.54375\" xlink:href=\"#C0_0_9b43e5ce21\" y=\"266.981755\"/>\n    </g>\n    <g clip-path=\"url(#pa783a7062e)\">\n     <use x=\"116.392475\" xlink:href=\"#C0_0_9b43e5ce21\" y=\"263.92086\"/>\n    </g>\n    <g clip-path=\"url(#pa783a7062e)\">\n     <use x=\"120.54375\" xlink:href=\"#C0_0_9b43e5ce21\" y=\"247.471509\"/>\n    </g>\n    <g clip-path=\"url(#pa783a7062e)\">\n     <use x=\"120.54375\" xlink:href=\"#C0_0_9b43e5ce21\" y=\"238.726308\"/>\n    </g>\n    <g clip-path=\"url(#pa783a7062e)\">\n     <use x=\"120.54375\" xlink:href=\"#C0_0_9b43e5ce21\" y=\"205.359\"/>\n    </g>\n   </g>\n   <g id=\"PathCollection_2\">\n    <defs>\n     <path d=\"M 0 2.5 \nC 0.663008 2.5 1.29895 2.236584 1.767767 1.767767 \nC 2.236584 1.29895 2.5 0.663008 2.5 -0 \nC 2.5 -0.663008 2.236584 -1.29895 1.767767 -1.767767 \nC 1.29895 -2.236584 0.663008 -2.5 0 -2.5 \nC -0.663008 -2.5 -1.29895 -2.236584 -1.767767 -1.767767 \nC -2.236584 -1.29895 -2.5 -0.663008 -2.5 0 \nC -2.5 0.663008 -2.236584 1.29895 -1.767767 1.767767 \nC -1.29895 2.236584 -0.663008 2.5 0 2.5 \nz\n\" id=\"C1_0_eb88a7af46\"/>\n    </defs>\n    <g clip-path=\"url(#pa783a7062e)\">\n     <use x=\"279.86875\" xlink:href=\"#C1_0_eb88a7af46\" y=\"313.990909\"/>\n    </g>\n    <g clip-path=\"url(#pa783a7062e)\">\n     <use x=\"274.61875\" xlink:href=\"#C1_0_eb88a7af46\" y=\"313.990909\"/>\n    </g>\n    <g clip-path=\"url(#pa783a7062e)\">\n     <use x=\"279.86875\" xlink:href=\"#C1_0_eb88a7af46\" y=\"302.691087\"/>\n    </g>\n    <g clip-path=\"url(#pa783a7062e)\">\n     <use x=\"274.907461\" xlink:href=\"#C1_0_eb88a7af46\" y=\"301.055842\"/>\n    </g>\n    <g clip-path=\"url(#pa783a7062e)\">\n     <use x=\"279.86875\" xlink:href=\"#C1_0_eb88a7af46\" y=\"288.86033\"/>\n    </g>\n    <g clip-path=\"url(#pa783a7062e)\">\n     <use x=\"279.86875\" xlink:href=\"#C1_0_eb88a7af46\" y=\"271.41249\"/>\n    </g>\n    <g clip-path=\"url(#pa783a7062e)\">\n     <use x=\"279.86875\" xlink:href=\"#C1_0_eb88a7af46\" y=\"263.351833\"/>\n    </g>\n    <g clip-path=\"url(#pa783a7062e)\">\n     <use x=\"274.61967\" xlink:href=\"#C1_0_eb88a7af46\" y=\"263.25823\"/>\n    </g>\n    <g clip-path=\"url(#pa783a7062e)\">\n     <use x=\"279.86875\" xlink:href=\"#C1_0_eb88a7af46\" y=\"249.895652\"/>\n    </g>\n    <g clip-path=\"url(#pa783a7062e)\">\n     <use x=\"279.86875\" xlink:href=\"#C1_0_eb88a7af46\" y=\"232.759396\"/>\n    </g>\n    <g clip-path=\"url(#pa783a7062e)\">\n     <use x=\"279.86875\" xlink:href=\"#C1_0_eb88a7af46\" y=\"197.256792\"/>\n    </g>\n    <g clip-path=\"url(#pa783a7062e)\">\n     <use x=\"275.198722\" xlink:href=\"#C1_0_eb88a7af46\" y=\"194.972399\"/>\n    </g>\n    <g clip-path=\"url(#pa783a7062e)\">\n     <use x=\"279.86875\" xlink:href=\"#C1_0_eb88a7af46\" y=\"181.292641\"/>\n    </g>\n    <g clip-path=\"url(#pa783a7062e)\">\n     <use x=\"275.651541\" xlink:href=\"#C1_0_eb88a7af46\" y=\"178.314619\"/>\n    </g>\n    <g clip-path=\"url(#pa783a7062e)\">\n     <use x=\"281.050048\" xlink:href=\"#C1_0_eb88a7af46\" y=\"176.420858\"/>\n    </g>\n    <g clip-path=\"url(#pa783a7062e)\">\n     <use x=\"278.02025\" xlink:href=\"#C1_0_eb88a7af46\" y=\"172.337506\"/>\n    </g>\n    <g clip-path=\"url(#pa783a7062e)\">\n     <use x=\"279.86875\" xlink:href=\"#C1_0_eb88a7af46\" y=\"140.224377\"/>\n    </g>\n    <g clip-path=\"url(#pa783a7062e)\">\n     <use x=\"275.972775\" xlink:href=\"#C1_0_eb88a7af46\" y=\"136.872878\"/>\n    </g>\n    <g clip-path=\"url(#pa783a7062e)\">\n     <use x=\"279.86875\" xlink:href=\"#C1_0_eb88a7af46\" y=\"124.65074\"/>\n    </g>\n    <g clip-path=\"url(#pa783a7062e)\">\n     <use x=\"279.86875\" xlink:href=\"#C1_0_eb88a7af46\" y=\"117.1258\"/>\n    </g>\n    <g clip-path=\"url(#pa783a7062e)\">\n     <use x=\"274.61875\" xlink:href=\"#C1_0_eb88a7af46\" y=\"117.1258\"/>\n    </g>\n    <g clip-path=\"url(#pa783a7062e)\">\n     <use x=\"285.109839\" xlink:href=\"#C1_0_eb88a7af46\" y=\"116.834607\"/>\n    </g>\n    <g clip-path=\"url(#pa783a7062e)\">\n     <use x=\"269.488423\" xlink:href=\"#C1_0_eb88a7af46\" y=\"116.064313\"/>\n    </g>\n    <g clip-path=\"url(#pa783a7062e)\">\n     <use x=\"290.181907\" xlink:href=\"#C1_0_eb88a7af46\" y=\"115.543918\"/>\n    </g>\n    <g clip-path=\"url(#pa783a7062e)\">\n     <use x=\"279.86875\" xlink:href=\"#C1_0_eb88a7af46\" y=\"85.622938\"/>\n    </g>\n    <g clip-path=\"url(#pa783a7062e)\">\n     <use x=\"279.86875\" xlink:href=\"#C1_0_eb88a7af46\" y=\"79.010448\"/>\n    </g>\n    <g clip-path=\"url(#pa783a7062e)\">\n     <use x=\"279.86875\" xlink:href=\"#C1_0_eb88a7af46\" y=\"42.795181\"/>\n    </g>\n    <g clip-path=\"url(#pa783a7062e)\">\n     <use x=\"279.86875\" xlink:href=\"#C1_0_eb88a7af46\" y=\"21.809091\"/>\n    </g>\n   </g>\n  </g>\n </g>\n <defs>\n  <clipPath id=\"pa783a7062e\">\n   <rect height=\"321.4\" width=\"318.65\" x=\"40.88125\" y=\"7.2\"/>\n  </clipPath>\n </defs>\n</svg>\n",
      "image/png": "[encoded data removed]"
     },
     "metadata": {
      "needs_background": "light"
     }
    }
   ],
   "source": [
    "sns.catplot(x='plc_status',y='plc_volume_cubed', height=5,kind='box', width=0.1, aspect=1, data=df)\n",
    "sns.swarmplot(x='plc_status',y='plc_volume_cubed', data=df, color=\"black\")"
   ]
  },
  {
   "cell_type": "code",
   "execution_count": 6,
   "metadata": {},
   "outputs": [],
   "source": [
    "file_test = h5py.File(\n",
    "    \"/home/val/python_wkspce/plc_seg/data/processed/2d_pet_normalized/test.hdf5\",\n",
    "    \"r\")\n",
    "\n",
    "data_test = get_tf_data(\n",
    "    file_test,\n",
    "    clinical_df,\n",
    "    output_shape=(256, 256),\n",
    "    random_slice=False,\n",
    "    label_to_center=\"GTV L\",\n",
    "    return_complete_gtvl=True,\n",
    "    return_patient=True,\n",
    "    return_plc_status=True,\n",
    ").batch(4)\n"
   ]
  },
  {
   "cell_type": "code",
   "execution_count": 7,
   "metadata": {},
   "outputs": [
    {
     "output_type": "stream",
     "name": "stdout",
     "text": [
      "WARNING:tensorflow:Unable to restore custom metric. Please ensure that the layer implements `get_config` and `from_config` when saving. In addition, please use the `custom_objects` arg when calling `load_model()`.\n"
     ]
    }
   ],
   "source": [
    "model = tf.keras.models.load_model(model_path, compile=False)\n",
    "optimizer = tf.keras.optimizers.Adam(learning_rate=1e-3)\n",
    "model.compile(\n",
    "    loss=CustomLoss(),\n",
    "    optimizer=optimizer,\n",
    "    run_eagerly=False,\n",
    ")\n"
   ]
  },
  {
   "cell_type": "code",
   "execution_count": 8,
   "metadata": {},
   "outputs": [
    {
     "output_type": "stream",
     "name": "stdout",
     "text": [
      "Dynamic range of ct [-1.0, 1.0]\n",
      "Dynamic range of pt [-0.5148023366928101, 43.357635498046875]\n",
      "Dynamic range of third channel [0.0, 0.0]\n",
      "Dynamic range of ct [-0.7859929800033569, 1.0]\n",
      "Dynamic range of pt [-0.4842640161514282, 24.766559600830078]\n",
      "Dynamic range of third channel [0.0, 0.0]\n",
      "Dynamic range of ct [-1.0, 1.0]\n",
      "Dynamic range of pt [-0.5240480303764343, 17.09098243713379]\n",
      "Dynamic range of third channel [0.0, 0.0]\n",
      "Dynamic range of ct [-0.9497581124305725, 1.0]\n",
      "Dynamic range of pt [-0.6041936278343201, 22.008337020874023]\n",
      "Dynamic range of third channel [0.0, 0.0]\n",
      "Dynamic range of ct [-0.5868774652481079, 1.0]\n",
      "Dynamic range of pt [-0.5240480303764343, 11.75966739654541]\n",
      "Dynamic range of third channel [0.0, 0.0]\n",
      "Dynamic range of ct [-1.0, 1.0]\n",
      "Dynamic range of pt [-0.5197181105613708, 15.472431182861328]\n",
      "Dynamic range of third channel [0.0, 0.0]\n",
      "Dynamic range of ct [-1.0, 1.0]\n",
      "Dynamic range of pt [-0.4760938882827759, 30.70351219177246]\n",
      "Dynamic range of third channel [0.0, 0.0]\n",
      "Dynamic range of ct [-1.0, 1.0]\n",
      "Dynamic range of pt [-0.5512122511863708, 12.930780410766602]\n",
      "Dynamic range of third channel [0.0, 0.0]\n",
      "Dynamic range of ct [-0.5859137177467346, 1.0]\n",
      "Dynamic range of pt [-0.5333431363105774, 17.45644760131836]\n",
      "Dynamic range of third channel [0.0, 0.0]\n"
     ]
    }
   ],
   "source": [
    "for x, y_true, plc_status, patient_id in data_test.as_numpy_iterator():\n",
    "    y_pred = model(x).numpy()\n",
    "    print(f\"Dynamic range of ct [{np.min(x[...,0])}, {np.max(x[...,0])}]\\n\"\n",
    "    f\"Dynamic range of pt [{np.min(x[...,1])}, {np.max(x[...,1])}]\\n\"\n",
    "    f\"Dynamic range of third channel [{np.min(x[...,2])}, {np.max(x[...,2])}]\"\n",
    "    )"
   ]
  },
  {
   "cell_type": "code",
   "execution_count": null,
   "metadata": {},
   "outputs": [],
   "source": [
    "\n",
    "for x, y_true, plc_status, patient_id in data_test.as_numpy_iterator():\n",
    "    for i in range(x.shape[0]):\n",
    "        fig, axs = plt.subplots(1, 3, figsize=(16,8))\n",
    "        fig.subplots_adjust(left=0.05, bottom=0.06, right=0.95, top=0.94, wspace=0.4)\n",
    "        \n",
    "        im1 = axs[0].axis('off')\n",
    "        im1 = axs[0].imshow(x[i,:,:,0],cmap='gray')\n",
    "        im1 = axs[0].imshow(y_true[i, :,:,4], cmap='jet', alpha=0.5)\n",
    "        axs[0].set_title(\"VOI L\")\n",
    "\n",
    "        im2 = axs[1].axis('off')\n",
    "        im2 = axs[1].imshow(x[i,:,:,0],cmap='gray')\n",
    "        im2 = axs[1].imshow(x[i, :,:,1], cmap='hot', alpha=0.5, norm=Normalize(vmin=0.0, vmax=2.5, clip=True))\n",
    "        axs[1].margins(2,2)\n",
    "        cax2 = fig.add_axes([axs[1].get_position().x1+0.01,axs[1].get_position().y0,0.02,axs[1].get_position().height])\n",
    "        plt.colorbar(im2, cax=cax2) # Similar to fig.colorbar(im, cax = cax)\n",
    "        axs[1].set_title(\"PET/CT\")\n",
    "\n",
    "        im3 = axs[2].axis('off')\n",
    "        im3 = axs[2].imshow(x[i,:,:,0],cmap='gray')\n",
    "        im3 = axs[2].imshow(y_pred[i, :,:,1], cmap='jet', alpha=0.5, norm=Normalize(vmin=0.0, vmax=0.5, clip=True))\n",
    "        cax3 = fig.add_axes([axs[2].get_position().x1+0.01,axs[2].get_position().y0,0.02,axs[2].get_position().height])\n",
    "        plt.colorbar(im3, cax=cax3) # Similar to fig.colorbar(im, cax = cax)\n",
    "        axs[2].set_title(\"Prediction\")\n",
    "        \n",
    "        \n",
    "        \n",
    "        \n",
    "        p_id  = patient_id[i].decode('utf-8')\n",
    "        volume = volume_pred_df[volume_pred_df[\"patient_name\"]==p_id][\"plc_volume\"].values[0]\n",
    "        fig.suptitle(f\"{patient_id[i].decode('utf-8')}\\nPLC status: {int(plc_status[i,0])}\"\n",
    "        f\"\\nPredicted volume {volume} [mm$^3$]\", fontsize=20)\n",
    "        path_to_save = f\"/home/val/python_wkspce/plc_seg/reports/figures/{p_id}.png\"\n",
    "        fig.savefig(path_to_save, transparent=False, facecolor=\"white\")\n",
    "        plt.close(fig=fig)\n",
    "\n",
    "\n"
   ]
  },
  {
   "cell_type": "code",
   "execution_count": null,
   "metadata": {},
   "outputs": [],
   "source": [
    "\n",
    "# file_train.close()\n",
    "file_test.close()"
   ]
  },
  {
   "cell_type": "code",
   "execution_count": null,
   "metadata": {},
   "outputs": [],
   "source": [
    "file_train = h5py.File(\n",
    "    \"/home/val/python_wkspce/plc_seg/data/processed/2d_pet_normalized/train.hdf5\",\n",
    "    \"r\")\n",
    "patient_list = list(file_train.keys())\n",
    "patient_list = [p for p in patient_list if p not in [\"PatientLC_63\"]]\n",
    "\n",
    "data_train = get_tf_data(\n",
    "    file_train,\n",
    "    clinical_df,\n",
    "    output_shape=(256, 256),\n",
    "    random_slice=False,\n",
    "    label_to_center=\"GTV L\",\n",
    "    return_complete_gtvl=True,\n",
    "    return_patient=True,\n",
    "    return_plc_status=True,\n",
    "    patient_list=patient_list,\n",
    ").batch(4)\n"
   ]
  },
  {
   "cell_type": "code",
   "execution_count": null,
   "metadata": {},
   "outputs": [],
   "source": [
    "for x, y_true, plc_status, patient_id in data_train.as_numpy_iterator():\n",
    "    y_pred = model(x).numpy()\n",
    "    for i in range(x.shape[0]):\n",
    "        fig, axs = plt.subplots(1, 3, figsize=(16,8))\n",
    "        fig.subplots_adjust(left=0.05, bottom=0.06, right=0.95, top=0.94, wspace=0.4)\n",
    "        \n",
    "        im1 = axs[0].axis('off')\n",
    "        im1 = axs[0].imshow(x[i,:,:,0],cmap='gray')\n",
    "        im1 = axs[0].imshow(y_true[i, :,:,4], cmap='jet', alpha=0.5)\n",
    "        axs[0].set_title(\"VOI L\")\n",
    "\n",
    "        im2 = axs[1].axis('off')\n",
    "        im2 = axs[1].imshow(x[i,:,:,0],cmap='gray')\n",
    "        im2 = axs[1].imshow(x[i, :,:,1], cmap='hot', alpha=0.5, norm=Normalize(vmin=0.0, vmax=2.5, clip=True))\n",
    "        axs[1].margins(2,2)\n",
    "        cax2 = fig.add_axes([axs[1].get_position().x1+0.01,axs[1].get_position().y0,0.02,axs[1].get_position().height])\n",
    "        plt.colorbar(im2, cax=cax2) # Similar to fig.colorbar(im, cax = cax)\n",
    "        axs[1].set_title(\"PET/CT\")\n",
    "\n",
    "        im3 = axs[2].axis('off')\n",
    "        im3 = axs[2].imshow(x[i,:,:,0],cmap='gray')\n",
    "        im3 = axs[2].imshow(y_pred[i, :,:,1], cmap='jet', alpha=0.5, norm=Normalize(vmin=0.0, vmax=0.5, clip=True))\n",
    "        cax3 = fig.add_axes([axs[2].get_position().x1+0.01,axs[2].get_position().y0,0.02,axs[2].get_position().height])\n",
    "        plt.colorbar(im3, cax=cax3) # Similar to fig.colorbar(im, cax = cax)\n",
    "        axs[2].set_title(\"Prediction\")\n",
    "        \n",
    "        \n",
    "        \n",
    "        \n",
    "        p_id  = patient_id[i].decode('utf-8')\n",
    "        fig.suptitle(f\"{patient_id[i].decode('utf-8')}\\nPLC status: {int(plc_status[i,0])}\"\n",
    "        f\"\\nTRAIN\", fontsize=20)\n",
    "        path_to_save = f\"/home/val/python_wkspce/plc_seg/reports/figures_train/{p_id}.png\"\n",
    "        fig.savefig(path_to_save, transparent=False, facecolor=\"white\")\n",
    "        plt.close(fig=fig)"
   ]
  },
  {
   "cell_type": "code",
   "execution_count": null,
   "metadata": {},
   "outputs": [],
   "source": [
    "clinical_df.iloc[np.isnan(clinical_df[\"sick_lung_axis\"].values),:]"
   ]
  },
  {
   "cell_type": "code",
   "execution_count": null,
   "metadata": {},
   "outputs": [],
   "source": [
    "file_train.keys()"
   ]
  },
  {
   "cell_type": "code",
   "execution_count": null,
   "metadata": {},
   "outputs": [],
   "source": []
  }
 ]
}