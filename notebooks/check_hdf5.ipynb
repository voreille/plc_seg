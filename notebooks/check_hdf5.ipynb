{
 "metadata": {
  "language_info": {
   "codemirror_mode": {
    "name": "ipython",
    "version": 3
   },
   "file_extension": ".py",
   "mimetype": "text/x-python",
   "name": "python",
   "nbconvert_exporter": "python",
   "pygments_lexer": "ipython3",
   "version": "3.8.0-final"
  },
  "orig_nbformat": 2,
  "kernelspec": {
   "name": "python3",
   "display_name": "Python 3.8.0 64-bit ('env')",
   "metadata": {
    "interpreter": {
     "hash": "8596b8d3b26ce6616e7811b8163daf9aea7ff6167af31daab1e43667f4f6ff84"
    }
   }
  }
 },
 "nbformat": 4,
 "nbformat_minor": 2,
 "cells": [
  {
   "cell_type": "code",
   "execution_count": null,
   "metadata": {},
   "outputs": [],
   "source": [
    "import numpy as np\n",
    "import h5py\n",
    "import matplotlib.pyplot as plt"
   ]
  },
  {
   "cell_type": "code",
   "execution_count": null,
   "metadata": {},
   "outputs": [],
   "source": [
    "f = h5py.File(\"/home/val/python_wkspce/plc_seg/data/processed/2d/train.hdf5\")"
   ]
  },
  {
   "cell_type": "code",
   "execution_count": null,
   "metadata": {},
   "outputs": [],
   "source": [
    "image = f[\"epoch_10\"][\"PatientLC_19\"][\"image\"][()]\n",
    "mask = f[\"epoch_10\"][\"PatientLC_19\"][\"mask\"][()]"
   ]
  },
  {
   "cell_type": "code",
   "execution_count": null,
   "metadata": {},
   "outputs": [],
   "source": [
    "c=0 # 0:ct, 1:pt\n",
    "c_m=0 # 0: gtv t, 1:gtv l, 2: lung1, 3: lung2\n",
    "\n",
    "\n",
    "plt.imshow(image[:,:, c],cmap='gray')\n",
    "plt.imshow(mask[:,:,c_m], cmap='jet', alpha=0.5)"
   ]
  },
  {
   "cell_type": "code",
   "execution_count": null,
   "metadata": {},
   "outputs": [],
   "source": []
  }
 ]
}