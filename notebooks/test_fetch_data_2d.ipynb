{
 "cells": [
  {
   "cell_type": "code",
   "execution_count": null,
   "metadata": {},
   "outputs": [],
   "source": [
    "from pathlib import Path\n",
    "import time\n",
    "\n",
    "import numpy as np\n",
    "import SimpleITK as sitk\n",
    "import matplotlib.pyplot as plt\n",
    "import tensorflow as tf\n",
    "import matplotlib.pyplot as plt\n",
    "\n",
    "from src.models.fetch_data_2d import get_tf_dataset, tf_parse_image, parse_image"
   ]
  },
  {
   "cell_type": "code",
   "execution_count": null,
   "metadata": {},
   "outputs": [],
   "source": [
    "path_data_nii = Path(\"/home/val/python_wkspce/plc_seg/data/interim/nii_raw\")\n",
    "path_mask_lung_nii = Path(\n",
    "    \"/home/val/python_wkspce/plc_seg/data/interim/lung_contours\")\n",
    "\n",
    "patient_list = [\n",
    "    f.name.split(\"__\")[0] for f in path_mask_lung_nii.rglob(\"*LUNG*\")\n",
    "]\n",
    "\n",
    "patient_ds = tf.data.Dataset.from_tensor_slices(patient_list)\n",
    "\n",
    "n = 2\n",
    "sradius = 3\n",
    "t1 = time.time()\n",
    "for p in patient_ds.take(n):\n",
    "    results = parse_image(\n",
    "        p,\n",
    "        path_data_nii,\n",
    "        path_mask_lung_nii,\n",
    "        spacing=(1, 1, 1),\n",
    "        ct_window_str=\"lung\",\n",
    "        output_shape=(256, 256),\n",
    "        random_center=True,\n",
    "        augment_mirror=True,\n",
    "        augment_angles=(20, 20, 45),\n",
    "        interp_order=3,\n",
    "        mask_smoothing=True,\n",
    "        smoothing_radius=sradius,\n",
    "    )"
   ]
  },
  {
   "cell_type": "code",
   "execution_count": null,
   "metadata": {},
   "outputs": [],
   "source": [
    "results[0].shape"
   ]
  },
  {
   "cell_type": "code",
   "execution_count": null,
   "metadata": {},
   "outputs": [],
   "source": [
    "plt.imshow(results[0][:,:,0],cmap='gray')\n",
    "plt.imshow(results[1][:,:,0], cmap='jet', alpha=0.5)"
   ]
  },
  {
   "cell_type": "code",
   "execution_count": null,
   "metadata": {},
   "outputs": [],
   "source": [
    "len(patient_list)"
   ]
  },
  {
   "cell_type": "code",
   "execution_count": null,
   "metadata": {},
   "outputs": [],
   "source": [
    "patient_list = patient_list[:1]"
   ]
  },
  {
   "cell_type": "code",
   "execution_count": null,
   "metadata": {},
   "outputs": [],
   "source": [
    "data =  get_tf_dataset(\n",
    "    patient_list,\n",
    "    path_data_nii,\n",
    "    path_mask_lung_nii,\n",
    "    random_center=True,\n",
    "    augment_angles=(20,20,45),\n",
    "    augment_mirror=False,\n",
    "    num_parallel_calls=None,\n",
    "    output_shape=(256,256),\n",
    "    spacing=(1, 1, 1),\n",
    "    ct_window_str=\"lung\",\n",
    "    return_patient_name=True,\n",
    "    interp_order=3,\n",
    "    mask_smoothing=True,\n",
    "    smoothing_radius=3,\n",
    "    )"
   ]
  },
  {
   "cell_type": "code",
   "execution_count": null,
   "metadata": {},
   "outputs": [],
   "source": [
    "X = data.batch(1).take(1).as_numpy_iterator()"
   ]
  },
  {
   "cell_type": "code",
   "execution_count": null,
   "metadata": {},
   "outputs": [],
   "source": [
    "image, mask, patient = next(X)"
   ]
  },
  {
   "cell_type": "code",
   "execution_count": null,
   "metadata": {},
   "outputs": [],
   "source": [
    "image.shape"
   ]
  },
  {
   "cell_type": "code",
   "execution_count": null,
   "metadata": {},
   "outputs": [],
   "source": [
    "b=0\n",
    "msk = mask[b,:,:, 0]"
   ]
  },
  {
   "cell_type": "code",
   "execution_count": null,
   "metadata": {},
   "outputs": [],
   "source": [
    "print(f\"patient: {patient[b]}\")\n",
    "c=0 # 0:ct, 1:pt\n",
    "c_m=0 # 0: gtv t, 1:gtv l, 2: lung1, 3: lung2\n",
    "\n",
    "\n",
    "plt.imshow(image[b,:,:, c],cmap='gray')\n",
    "plt.imshow(mask[b,:,:,c_m], cmap='jet', alpha=0.5)"
   ]
  },
  {
   "cell_type": "code",
   "execution_count": null,
   "metadata": {},
   "outputs": [],
   "source": [
    "for i in range(1):\n",
    "    start = time.time()\n",
    "    image, mask = next(X)\n",
    "    print(f\"image number {i}\")\n",
    "    print(image.shape)\n",
    "    end = time.time()\n",
    "    print(f\"time to processe it {end - start}\")\n"
   ]
  },
  {
   "cell_type": "code",
   "execution_count": null,
   "metadata": {},
   "outputs": [],
   "source": [
    "plt.imshow(image[0,:,:,72, 0])"
   ]
  },
  {
   "cell_type": "code",
   "execution_count": null,
   "metadata": {},
   "outputs": [],
   "source": []
  }
 ],
 "metadata": {
  "kernelspec": {
   "display_name": "Python 3",
   "language": "python",
   "name": "python3"
  },
  "language_info": {
   "codemirror_mode": {
    "name": "ipython",
    "version": 3
   },
   "file_extension": ".py",
   "mimetype": "text/x-python",
   "name": "python",
   "nbconvert_exporter": "python",
   "pygments_lexer": "ipython3",
   "version": "3.8.0-final"
  }
 },
 "nbformat": 4,
 "nbformat_minor": 2
}