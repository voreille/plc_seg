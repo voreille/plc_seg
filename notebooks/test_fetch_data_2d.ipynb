{
 "cells": [
  {
   "cell_type": "code",
   "execution_count": null,
   "metadata": {},
   "outputs": [],
   "source": [
    "from pathlib import Path\n",
    "import time\n",
    "\n",
    "import numpy as np\n",
    "import pandas as pd\n",
    "import SimpleITK as sitk\n",
    "import matplotlib.pyplot as plt\n",
    "import tensorflow as tf\n",
    "import matplotlib.pyplot as plt\n",
    "\n",
    "from src.models.fetch_data_2d_fixed import (get_tf_dataset, tf_parse_image,\n",
    "                                            parse_image, slice_image, tf_compute_mask, tf_plc)\n"
   ]
  },
  {
   "cell_type": "code",
   "execution_count": null,
   "metadata": {},
   "outputs": [],
   "source": [
    "path_data_nii = Path(\"/home/val/python_wkspce/plc_seg/data/interim/nii_raw\")\n",
    "path_mask_lung_nii = Path(\n",
    "    \"/home/val/python_wkspce/plc_seg/data/interim/lung_contours\")\n",
    "\n",
    "patient_list = [\n",
    "    f.name.split(\"__\")[0] for f in path_mask_lung_nii.rglob(\"*LUNG*\")\n",
    "]\n",
    "\n",
    "# patient_list = patient_list[:1]\n",
    "patient_ds = tf.data.Dataset.from_tensor_slices(patient_list)"
   ]
  },
  {
   "cell_type": "code",
   "execution_count": null,
   "metadata": {},
   "outputs": [],
   "source": [
    "path_clinical_info = \"/home/val/python_wkspce/plc_seg/data/clinical_info.csv\"\n",
    "clinical_df = pd.read_csv(path_clinical_info).set_index(\"patient_id\")"
   ]
  },
  {
   "cell_type": "code",
   "execution_count": null,
   "metadata": {},
   "outputs": [],
   "source": [
    "ds = get_tf_dataset(\n",
    "    patient_list,\n",
    "    path_data_nii,\n",
    "    path_mask_lung_nii,\n",
    "    clinical_df,\n",
    "    random_center=False,\n",
    "    augment_angles=(0, 0, 0),\n",
    "    num_parallel_calls=None,\n",
    "    output_shape=(256, 256),\n",
    "    spacing=(1, 1, 1),\n",
    "    ct_window_str=\"lung\",\n",
    "    interp_order_image=3,\n",
    "    interp_order_mask=0,\n",
    "    fill_mode=\"constant\",\n",
    "    fill_value=0.0,\n",
    ")"
   ]
  },
  {
   "cell_type": "code",
   "execution_count": null,
   "metadata": {},
   "outputs": [],
   "source": [
    "ds = ds.repeat().take(10)"
   ]
  },
  {
   "cell_type": "code",
   "execution_count": null,
   "metadata": {},
   "outputs": [],
   "source": [
    "for image, mask in ds.as_numpy_iterator():\n",
    "    print(image.shape)"
   ]
  },
  {
   "cell_type": "code",
   "execution_count": null,
   "metadata": {},
   "outputs": [],
   "source": [
    "plt.figure(figsize=(4, 4))\n",
    "plt.imshow(image[:,:,0],cmap='gray')\n",
    "plt.imshow(mask[ :,:,3], cmap='jet', alpha=0.5)\n",
    "plt.colorbar()"
   ]
  },
  {
   "cell_type": "code",
   "execution_count": null,
   "metadata": {},
   "outputs": [],
   "source": []
  }
 ],
 "metadata": {
  "kernelspec": {
   "display_name": "Python 3",
   "language": "python",
   "name": "python3"
  },
  "language_info": {
   "codemirror_mode": {
    "name": "ipython",
    "version": 3
   },
   "file_extension": ".py",
   "mimetype": "text/x-python",
   "name": "python",
   "nbconvert_exporter": "python",
   "pygments_lexer": "ipython3",
   "version": "3.8.0-final"
  }
 },
 "nbformat": 4,
 "nbformat_minor": 2
}