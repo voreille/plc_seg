{
 "cells": [
  {
   "cell_type": "code",
   "execution_count": null,
   "metadata": {},
   "outputs": [],
   "source": [
    "from pathlib import Path\n",
    "\n",
    "import numpy as np\n",
    "import SimpleITK as sitk\n",
    "import matplotlib.pyplot as plt\n",
    "\n",
    "from src.models.fetch_data import get_tf_dataset"
   ]
  },
  {
   "cell_type": "code",
   "execution_count": null,
   "metadata": {},
   "outputs": [],
   "source": [
    "path_data_nii = Path(\"/home/val/python_wkspce/plc_seg/data/interim/nii_raw\")\n",
    "path_mask_lung_nii = Path(\"/home/val/python_wkspce/plc_seg/data/interim/lung_contours\")"
   ]
  },
  {
   "cell_type": "code",
   "execution_count": null,
   "metadata": {},
   "outputs": [],
   "source": [
    "path_data_nii = Path(\"/home/val/python_wkspce/plc_seg/data/interim/nii_raw\")\n",
    "path_mask_lung_nii = Path(\"/home/val/python_wkspce/plc_seg/data/interim/lung_contours\")\n",
    "\n",
    "patient_list = [f.name.split(\"__\")[0] for f in path_mask_lung_nii.rglob(\"*LUNG*\")]\n"
   ]
  },
  {
   "cell_type": "code",
   "execution_count": null,
   "metadata": {},
   "outputs": [],
   "source": []
  },
  {
   "cell_type": "code",
   "execution_count": null,
   "metadata": {},
   "outputs": [],
   "source": [
    "def get_tf_dataset(\n",
    "    patient_list,\n",
    "    path_data_nii,\n",
    "    path_mask_lung_nii,\n",
    "    augment_angles=None,\n",
    "    augment_mirror=False,\n",
    "    num_parallel_calls=None,\n",
    "    output_shape=(144, 144, 144),\n",
    "    spacing=(1, 1, 1),\n",
    "    ct_window_str=\"lung\",\n",
    "    return_patient_name=False,\n",
    "    interp_order=3,\n",
    "):"
   ]
  }
 ],
 "metadata": {
  "kernelspec": {
   "display_name": "Python 3",
   "language": "python",
   "name": "python3"
  },
  "language_info": {
   "codemirror_mode": {
    "name": "ipython",
    "version": 3
   },
   "file_extension": ".py",
   "mimetype": "text/x-python",
   "name": "python",
   "nbconvert_exporter": "python",
   "pygments_lexer": "ipython3",
   "version": "3.8.0"
  }
 },
 "nbformat": 4,
 "nbformat_minor": 2
}
